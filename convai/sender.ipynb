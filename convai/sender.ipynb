{
 "cells": [
  {
   "cell_type": "code",
   "execution_count": 2,
   "id": "ccb1b28a-546f-4019-a885-38dd8555aa24",
   "metadata": {
    "tags": []
   },
   "outputs": [],
   "source": [
    "import socket\n",
    "import json\n",
    "import threading\n",
    "\n",
    "\n",
    "class Game:\n",
    "    def __init__(self, target_url=\"::\", target_port=8199, listen_port=8084):\n",
    "        self.target_url = target_url\n",
    "        self.target_port = target_port\n",
    "        self.listen_port = listen_port\n",
    "        self.sock = socket.socket(socket.AF_INET6, socket.SOCK_DGRAM)\n",
    "        self.listen_thread = threading.Thread(target=self.listen)\n",
    "        self.listen_thread.start()\n",
    "\n",
    "    def listen(self):\n",
    "        self.sock.bind(('::1', self.listen_port))\n",
    "        while True:\n",
    "            data, addr = self.sock.recvfrom(1024)\n",
    "            try:\n",
    "                json_data = json.loads(data.decode())\n",
    "                print(json_data)\n",
    "            except json.JSONDecodeError:\n",
    "                pass\n",
    "\n",
    "    def init_engine(self):\n",
    "        init_data = {\n",
    "            \"func\": \"init\",\n",
    "            \"npc\": [\n",
    "                {\"name\": \"李大爷\", \"desc\": \"是个好人\", \"mood\": \"正常\", \"location\": \"李大爷家\", \"memory\": []},\n",
    "                {\"name\": \"王大妈\", \"desc\": \"是个好人\", \"mood\": \"焦急\", \"location\": \"王大妈家\", \"memory\": []}\n",
    "            ],\n",
    "            \"knowledge\": {\n",
    "                \"actions\": [\"stay\", \"move\", \"chat\"],\n",
    "                \"place\": [\"李大爷家\", \"王大妈家\", \"广场\", \"瓜田\", \"酒吧\", \"警局\"],\n",
    "                \"moods\": [\"正常\", \"焦急\", \"严肃\", \"开心\", \"伤心\"],\n",
    "                \"people\": [\"李大爷\", \"王大妈\", \"村长\", \"警长\"]\n",
    "            }\n",
    "        }\n",
    "        self.send_data(init_data)\n",
    "\n",
    "    def generate_conversation(self, npc, location, topic, iterrupt_speech):\n",
    "        conversation_data = {\n",
    "            \"func\": \"conversation\",\n",
    "            \"npc\": npc,\n",
    "            \"location\": location,\n",
    "            \"topic\": topic,\n",
    "            \"iterrupt_speech\": iterrupt_speech\n",
    "        }\n",
    "        self.send_data(conversation_data)\n",
    "        return conversation_data\n",
    "\n",
    "    def confirm_conversation(self, conversation_id, index):\n",
    "        confirm_data = {\n",
    "            \"func\": \"confirm_conversation_line\",\n",
    "            \"conversation_id\": conversation_id,\n",
    "            \"index\": index\n",
    "        }\n",
    "        self.send_data(confirm_data)\n",
    "\n",
    "    def send_data(self, data):\n",
    "        self.sock.sendto(json.dumps(data).encode(), (self.target_url, self.target_port))\n",
    "   "
   ]
  },
  {
   "cell_type": "code",
   "execution_count": 3,
   "id": "49d18fb9-3702-4e80-99a8-45b0c24d41d3",
   "metadata": {
    "tags": []
   },
   "outputs": [],
   "source": [
    "game = Game()"
   ]
  },
  {
   "cell_type": "code",
   "execution_count": 4,
   "id": "9ff41e61-47d2-4f69-bce1-3e40a5e8ed28",
   "metadata": {
    "tags": []
   },
   "outputs": [],
   "source": [
    " game.init_engine()\n",
    "   "
   ]
  },
  {
   "cell_type": "code",
   "execution_count": 5,
   "id": "8db35f28-81d0-4158-8a54-2d1650c413fa",
   "metadata": {
    "tags": []
   },
   "outputs": [
    {
     "name": "stdout",
     "output_type": "stream",
     "text": [
      "{'name': 'conversation', 'id': '4520301b-fecd-4e07-a057-352c55816b54', 'length': 24, 'lines': []}\n"
     ]
    }
   ],
   "source": [
    " res = game.generate_conversation([\"李大爷\", \"王大妈\", \"村长\"], \"酒吧\", \"村长的紫色内裤\", \"你好我是玩家，你们在干什么？\")\n",
    "   "
   ]
  },
  {
   "cell_type": "code",
   "execution_count": null,
   "id": "230d8eb4-5ccc-46e7-af2c-1cf3e8cc9c05",
   "metadata": {
    "tags": []
   },
   "outputs": [],
   "source": []
  },
  {
   "cell_type": "code",
   "execution_count": 6,
   "id": "cf58229d-90d3-49a5-9095-9c57b5b5fc60",
   "metadata": {
    "tags": []
   },
   "outputs": [],
   "source": [
    "\n",
    "game.confirm_conversation(\"4520301b-fecd-4e07-a057-352c55816b54\", 24)"
   ]
  },
  {
   "cell_type": "code",
   "execution_count": 7,
   "id": "f04e4dfd-97b0-4cb1-b739-c1733a4f6522",
   "metadata": {},
   "outputs": [
    {
     "name": "stdout",
     "output_type": "stream",
     "text": [
      "/disk2/workspace/csgoai/stone/project/nvwa/convai\n"
     ]
    }
   ],
   "source": [
    "!pwd"
   ]
  },
  {
   "cell_type": "code",
   "execution_count": null,
   "id": "b5bc045f-9518-4649-8b43-cde99dcaed26",
   "metadata": {},
   "outputs": [],
   "source": []
  }
 ],
 "metadata": {
  "kernelspec": {
   "display_name": "Python 3 (ipykernel)",
   "language": "python",
   "name": "python3"
  },
  "language_info": {
   "codemirror_mode": {
    "name": "ipython",
    "version": 3
   },
   "file_extension": ".py",
   "mimetype": "text/x-python",
   "name": "python",
   "nbconvert_exporter": "python",
   "pygments_lexer": "ipython3",
   "version": "3.9.12"
  }
 },
 "nbformat": 4,
 "nbformat_minor": 5
}
