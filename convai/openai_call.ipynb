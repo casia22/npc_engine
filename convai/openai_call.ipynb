{
 "cells": [
  {
   "cell_type": "code",
   "execution_count": 11,
   "id": "e50f980a-577d-49ad-bf46-555555e1de19",
   "metadata": {
    "tags": []
   },
   "outputs": [
    {
     "name": "stdout",
     "output_type": "stream",
     "text": [
      "王大妈:中午好啊!我的黄金西瓜不见了，你见过吗\n"
     ]
    }
   ],
   "source": [
    "import openai\n",
    "import re,os\n",
    "# os.environ[\"HTTP_PROXY\"] = \"http://127.0.0.1:7890\"\n",
    "# os.environ[\"HTTPS_PROXY\"] = \"http://127.0.0.1:7890\"\n",
    "\n",
    "openai.api_key = \"sk-8p38chfjXbbL1RT943B051229a224a8cBdE1B53b5e2c04E2\"\n",
    "openai.api_base = \"https://api.ai-yyds.com/v1\"\n",
    "\n",
    "\n",
    "class NPC():\n",
    "    def __init__(self, name, desc, model=\"chatglm_6b\",temperature=0.1,top_p=0.2):\n",
    "        # model\n",
    "        self.model = model\n",
    "        self.temperature = temperature\n",
    "        self.top_p = top_p\n",
    "        # NPC\n",
    "        self.name = name\n",
    "        self.desc = desc\n",
    "        self.memeory = []\n",
    "        self.location = \"星露谷小镇村口的石头广场，每天中午有玩耍的孩子，现在有2个小孩;广场上有茶桌，麻将桌；天上有只会飞的大象\"\n",
    "        self.mood = \"平静\"\n",
    "        self.memeory.extend([\n",
    "            {\"role\": \"system\", \"content\": rf\"\"\"\n",
    "            请你扮演角色'{self.name}', 人物特点为'{self.desc}',心情是'{self.mood}',下面扮演该角色进行符合口语交流习惯的对话，仅生成单轮对话，不要添加多轮对话。仅生成角色嘴说出的话，不输出环境描述；当对话应该结束的时候，仅仅输出\"<EOC>\"即可。不要添加特殊符号，如：换行符、空格、制表符、转义符等。\n",
    "            \"\"\"},\n",
    "                             ])\n",
    "\n",
    "    def append_memory(self, memory):\n",
    "        self.memeory.append(memory)\n",
    "\n",
    "    def listen(self, content, npc):\n",
    "        content = re.sub(r'(\\\\)+(\"|\\'|\\\\)', '', content)\n",
    "        response_template = rf\"{content}<对方{npc.name}在‘{npc.location}’说话>\"\n",
    "        self.memeory.append({\"role\": \"user\", \"content\": response_template})\n",
    "\n",
    "    def say(self):\n",
    "        assert self.memeory[-1][\"role\"] == \"user\", rf\"{self.name}:请先让对方NPC说话\"\n",
    "        try:\n",
    "            response = openai.ChatCompletion.create(model=\"gpt-3.5-turbo\",\n",
    "                                                  messages=self.memeory)\n",
    "            words = response[\"choices\"][0][\"message\"][\"content\"].strip()\n",
    "            words = re.sub(r'(\\\\)+(\"|\\'|\\\\)', '', words)\n",
    "            self.memeory.append({\"role\": \"assistant\", \"content\": words})\n",
    "            return words\n",
    "        except Exception as e:\n",
    "            import traceback\n",
    "            traceback.print_exc()\n",
    "            print(f\"Error occurred: {e}\")\n",
    "            return \"对不起，我现在无法回答你的问题。\"\n",
    "\n",
    "\n",
    "# 创建两个NPC\n",
    "male = NPC(name=\"李大爷\", desc=\"李大爷住在村口的小木屋#1里，每天中午都喜欢出来喝茶，平常喜欢下棋打麻将，并且非常古板喜欢讽刺。李大爷曾经偷过村长的一只黄金西瓜，但是村长并不知道。\", model=\"chatglm_6b\")\n",
    "female = NPC(name=\"王大妈\", desc=\"王大妈住在村口的小木屋#2里，每天中午都喜欢出来煮茶，平常喜欢看麻将，讨厌下棋，并且喜欢较真，是村长的老婆。在寻找黄金西瓜。\", model=\"chatglm_6b\")\n",
    "\n",
    "# 添加种子对话;大妈先跟大爷说话\n",
    "seed = \"中午好啊!我的黄金西瓜不见了，你见过吗\"\n",
    "print(f\"{female.name}:{seed}\")\n",
    "male.listen(seed, female)\n",
    "male_words = male.say()\n",
    "\n"
   ]
  },
  {
   "cell_type": "code",
   "execution_count": 12,
   "id": "c094d8cd-65f1-4ce2-b380-60d5388ba265",
   "metadata": {
    "tags": []
   },
   "outputs": [
    {
     "data": {
      "text/plain": [
       "'我不知道你指的是哪一位李大爷，可以提供更多上下文信息吗？'"
      ]
     },
     "execution_count": 12,
     "metadata": {},
     "output_type": "execute_result"
    }
   ],
   "source": [
    "openai.api_key = \"sk-8p38chfjXbbL1RT943B051229a224a8cBdE1B53b5e2c04E2\"\n",
    "openai.api_base = \"http://api.ai-yyds.com/v1\"\n",
    "\n",
    "def query(prompt, inputs):\n",
    "    content = prompt + inputs\n",
    "    output = openai.ChatCompletion.create(model=\"gpt-3.5-turbo\", \n",
    "      messages=[{\"role\": \"system\", \"content\": content}, {\"role\": \"user\", \"content\": content}])\n",
    "    output = output[\"choices\"][0][\"message\"][\"content\"]\n",
    "    return output\n",
    "query(\"12\", \"李大爷\")"
   ]
  },
  {
   "cell_type": "code",
   "execution_count": 10,
   "id": "72a15252-2152-4706-8e8d-220f6a5a9664",
   "metadata": {
    "tags": []
   },
   "outputs": [
    {
     "name": "stdout",
     "output_type": "stream",
     "text": [
      "{\n",
      "  \"role\": \"assistant\",\n",
      "  \"content\": \"Hello there! How can I assist you with your development needs?\"\n",
      "}\n",
      "root:gpt-3.5-turbo\n",
      "root:gpt-3.5-turbo-0301\n",
      "root:gpt-3.5-turbo-0613\n",
      "root:gpt-3.5-turbo-16k\n",
      "root:gpt-3.5-turbo-16k-0613\n",
      "root:gpt-4\n",
      "root:gpt-4-0314\n",
      "root:gpt-4-0613\n",
      "root:gpt-4-32k\n",
      "root:gpt-4-32k-0314\n",
      "root:gpt-4-32k-0613\n",
      "root:text-embedding-ada-002\n",
      "root:text-davinci-003\n",
      "root:text-davinci-002\n",
      "root:text-curie-001\n",
      "root:text-babbage-001\n",
      "root:text-ada-001\n",
      "root:text-moderation-latest\n",
      "root:text-moderation-stable\n"
     ]
    }
   ],
   "source": [
    "import os\n",
    "import openai\n",
    "\n",
    "openai.api_key = \"sk-8p38chfjXbbL1RT943B051229a224a8cBdE1B53b5e2c04E2\"\n",
    "openai.api_base = \"https://api.ai-yyds.com/v1\"\n",
    "\n",
    "\n",
    "# 获取模型列表\n",
    "def get_model_ist(str:str) -> dict:\n",
    "  res = openai.Model.list(str)\n",
    "  for data in res[\"data\"]:\n",
    "    print(\"root:{}\".format(data['root']))\n",
    "\n",
    "  return res\n",
    "\n",
    "if __name__ =='__main__':\n",
    "  completion = openai.ChatCompletion.create(\n",
    "    model=\"gpt-3.5-turbo\",\n",
    "    messages=[\n",
    "      {\"role\": \"system\", \"content\": \"你是一个开发者\"},\n",
    "      {\"role\": \"user\", \"content\": \"Hello!\"}\n",
    "    ]\n",
    "  )\n",
    "\n",
    "  print(completion.choices[0].message)\n",
    "\n",
    "  # 测试使用\n",
    "  get_model_ist(openai.api_key)\n",
    "\n"
   ]
  },
  {
   "cell_type": "code",
   "execution_count": null,
   "id": "ec4c9f28-e298-444a-bf77-6f485b711273",
   "metadata": {},
   "outputs": [],
   "source": []
  }
 ],
 "metadata": {
  "kernelspec": {
   "display_name": "Python 3 (ipykernel)",
   "language": "python",
   "name": "python3"
  },
  "language_info": {
   "codemirror_mode": {
    "name": "ipython",
    "version": 3
   },
   "file_extension": ".py",
   "mimetype": "text/x-python",
   "name": "python",
   "nbconvert_exporter": "python",
   "pygments_lexer": "ipython3",
   "version": "3.9.12"
  }
 },
 "nbformat": 4,
 "nbformat_minor": 5
}
