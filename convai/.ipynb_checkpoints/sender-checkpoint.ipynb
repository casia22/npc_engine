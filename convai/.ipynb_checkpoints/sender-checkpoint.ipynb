{
 "cells": [
  {
   "cell_type": "code",
   "execution_count": 1,
   "id": "ccb1b28a-546f-4019-a885-38dd8555aa24",
   "metadata": {
    "tags": []
   },
   "outputs": [],
   "source": [
    "import socket\n",
    "import json\n",
    "import threading\n",
    "\n",
    "\n",
    "class Game:\n",
    "    def __init__(self, target_url=\"::\", target_port=8199, listen_port=8084):\n",
    "        self.target_url = target_url\n",
    "        self.target_port = target_port\n",
    "        self.listen_port = listen_port\n",
    "        self.sock = socket.socket(socket.AF_INET6, socket.SOCK_DGRAM)\n",
    "        self.listen_thread = threading.Thread(target=self.listen)\n",
    "        self.listen_thread.start()\n",
    "\n",
    "    def listen(self):\n",
    "        self.sock.bind(('::1', self.listen_port))\n",
    "        while True:\n",
    "            data, addr = self.sock.recvfrom(1024)\n",
    "            try:\n",
    "                json_data = json.loads(data.decode())\n",
    "                print(json_data)\n",
    "            except json.JSONDecodeError:\n",
    "                pass\n",
    "\n",
    "    def generate_conversation(self, npc, location, topic, iterrupt_speech):\n",
    "        conversation_data = {\n",
    "            \"func\": \"conversation\",\n",
    "            \"npc\": npc,\n",
    "            \"location\": location,\n",
    "            \"topic\": topic,\n",
    "            \"iterrupt_speech\": iterrupt_speech\n",
    "        }\n",
    "        self.send_data(conversation_data)\n",
    "\n",
    "    def confirm_conversation(self, conversation_id, index):\n",
    "        confirm_data = {\n",
    "            \"func\": \"confirm_conversation_line\",\n",
    "            \"conversation_id\": conversation_id,\n",
    "            \"index\": index\n",
    "        }\n",
    "        self.send_data(confirm_data)\n",
    "\n",
    "    def send_data(self, data):\n",
    "        self.sock.sendto(json.dumps(data).encode(), (self.target_url, self.target_port))\n",
    "        \n",
    "if __name__ == '__main__':\n",
    "    game = Game()\n",
    "    res = game.generate_conversation([\"李大爷\", \"王大妈\", \"村长\"], \"酒吧\", \"村长的紫色内裤\", \"你好我是玩家，你们在干什么？\")\n",
    "    id = res[\"id\"]\n",
    "    index = res[\"index\"]\n",
    "    game.confirm_conversation(\"38c93f61-0e74-4bd0-a513-8916dc1b1e26\", 12)"
   ]
  },
  {
   "cell_type": "code",
   "execution_count": 2,
   "id": "49d18fb9-3702-4e80-99a8-45b0c24d41d3",
   "metadata": {
    "tags": []
   },
   "outputs": [],
   "source": []
  },
  {
   "cell_type": "code",
   "execution_count": 8,
   "id": "9ff41e61-47d2-4f69-bce1-3e40a5e8ed28",
   "metadata": {
    "tags": []
   },
   "outputs": [
    {
     "name": "stdout",
     "output_type": "stream",
     "text": [
      "{'name': 'conversation', 'id': '38c93f61-0e74-4bd0-a513-8916dc1b1e26', 'length': 24, 'lines': []}\n"
     ]
    }
   ],
   "source": [
    "game.generate_conversation([\"李大爷\", \"王大妈\", \"村长\"], \"酒吧\", \"村长的紫色内裤\", \"你好我是玩家，你们在干什么？\")"
   ]
  },
  {
   "cell_type": "code",
   "execution_count": 9,
   "id": "8db35f28-81d0-4158-8a54-2d1650c413fa",
   "metadata": {
    "tags": []
   },
   "outputs": [],
   "source": [
    "game.confirm_conversation(\"38c93f61-0e74-4bd0-a513-8916dc1b1e26\", 12)"
   ]
  },
  {
   "cell_type": "code",
   "execution_count": null,
   "id": "cf58229d-90d3-49a5-9095-9c57b5b5fc60",
   "metadata": {},
   "outputs": [],
   "source": []
  }
 ],
 "metadata": {
  "kernelspec": {
   "display_name": "Python 3 (ipykernel)",
   "language": "python",
   "name": "python3"
  },
  "language_info": {
   "codemirror_mode": {
    "name": "ipython",
    "version": 3
   },
   "file_extension": ".py",
   "mimetype": "text/x-python",
   "name": "python",
   "nbconvert_exporter": "python",
   "pygments_lexer": "ipython3",
   "version": "3.9.12"
  }
 },
 "nbformat": 4,
 "nbformat_minor": 5
}
