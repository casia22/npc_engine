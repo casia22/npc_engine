{
 "cells": [
  {
   "cell_type": "code",
   "execution_count": 1,
   "id": "9f5ee05c-b351-48a0-8112-236298d2504d",
   "metadata": {
    "tags": []
   },
   "outputs": [
    {
     "data": {
      "text/plain": [
       "'\\n  _   _  _____    _____       ______  _   _   _____  _____  _   _  ______ \\n | \\\\ | ||  __ \\\\  / ____|     |  ____|| \\\\ | | / ____||_   _|| \\\\ | ||  ____|\\n |  \\\\| || |__) || |   ______ | |__   |  \\\\| || |  __   | |  |  \\\\| || |__   \\n | . ` ||  ___/ | |  |______||  __|  | . ` || | |_ |  | |  | . ` ||  __|  \\n | |\\\\  || |     | |____      | |____ | |\\\\  || |__| | _| |_ | |\\\\  || |____ \\n |_| \\\\_||_|      \\\\_____|     |______||_| \\\\_| \\\\_____||_____||_| \\\\_||______|\\n                                                                                                                                                 \\n'"
      ]
     },
     "execution_count": 1,
     "metadata": {},
     "output_type": "execute_result"
    }
   ],
   "source": [
    "a = \"\"\"\n",
    "  _   _  _____    _____       ______  _   _   _____  _____  _   _  ______ \n",
    " | \\ | ||  __ \\  / ____|     |  ____|| \\ | | / ____||_   _|| \\ | ||  ____|\n",
    " |  \\| || |__) || |   ______ | |__   |  \\| || |  __   | |  |  \\| || |__   \n",
    " | . ` ||  ___/ | |  |______||  __|  | . ` || | |_ |  | |  | . ` ||  __|  \n",
    " | |\\  || |     | |____      | |____ | |\\  || |__| | _| |_ | |\\  || |____ \n",
    " |_| \\_||_|      \\_____|     |______||_| \\_| \\_____||_____||_| \\_||______|\n",
    "                                                                                                                                                 \n",
    "\"\"\"\n",
    "print(a)"
   ]
  },
  {
   "cell_type": "code",
   "execution_count": null,
   "id": "f106ee45-e200-4fd7-8d98-a801fdc06283",
   "metadata": {},
   "outputs": [],
   "source": []
  }
 ],
 "metadata": {
  "kernelspec": {
   "display_name": "Python 3 (ipykernel)",
   "language": "python",
   "name": "python3"
  },
  "language_info": {
   "codemirror_mode": {
    "name": "ipython",
    "version": 3
   },
   "file_extension": ".py",
   "mimetype": "text/x-python",
   "name": "python",
   "nbconvert_exporter": "python",
   "pygments_lexer": "ipython3",
   "version": "3.9.12"
  }
 },
 "nbformat": 4,
 "nbformat_minor": 5
}
