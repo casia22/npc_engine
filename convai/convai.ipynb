{
 "cells": [
  {
   "cell_type": "code",
   "execution_count": 4,
   "id": "1c02e060-8c5c-44ef-b4f8-038433dd0b71",
   "metadata": {
    "tags": []
   },
   "outputs": [
    {
     "name": "stdout",
     "output_type": "stream",
     "text": [
      "{\"charID\": \"47403c6e-119a-11ee-ae3d-42010a400002\"}\n"
     ]
    }
   ],
   "source": [
    "import requests\n",
    "import json\n",
    "# Create\n",
    "url = \"https://api.convai.com/character/create\"\n",
    "\n",
    "payload = json.dumps({\n",
    "  \"charName\": \"Raymond\",\n",
    "  \"voiceType\": \"MALE\",\n",
    "  \"backstory\": \"Raymond Reddington is a main character in the NBC series The Blacklist. Reddington is a criminal mastermind, making it to #4 and later to #1 on the FBI's Ten Most Wanted Fugitives, who suddenly turns himself in after 20+ years of evading the FBI.\"\n",
    "})\n",
    "headers = {\n",
    "  'CONVAI-API-KEY': 'a4624c5bfb62a2af5b7c70b12b2ac836',\n",
    "  'Content-Type': 'application/json'\n",
    "}\n",
    "\n",
    "response = requests.request(\"POST\", url, headers=headers, data=payload)\n",
    "\n",
    "print(response.text)"
   ]
  },
  {
   "cell_type": "code",
   "execution_count": 22,
   "id": "ff778420-e427-4eb5-a7f0-704cee285948",
   "metadata": {},
   "outputs": [
    {
     "name": "stdout",
     "output_type": "stream",
     "text": [
      "{\"character_name\": \"Raymond\", \"user_id\": \"CAIM370025263752FE3A8AR\", \"character_id\": \"47403c6e-119a-11ee-ae3d-42010a400002\", \"listing\": \"public\", \"voice_type\": \"MALE\", \"character_actions\": [], \"character_emotions\": [], \"model_details\": {\"modelType\": \"NULL\", \"modelLink\": \"NULL\", \"modelPlaceholder\": \"NULL\"}, \"language_code\": \"en-US\", \"guard_rails\": {\"type1\": \"3\"}, \"timestamp\": \"2023-06-23T07:48:01\", \"organization_id\": null, \"backstory\": \"Raymond Reddington is a main character in the NBC series The Blacklist. Reddington is a criminal mastermind, making it to #4 and later to #1 on the FBI's Ten Most Wanted Fugitives, who suddenly turns himself in after 20+ years of evading the FBI.\"}\n"
     ]
    }
   ],
   "source": [
    "# getbyid\n",
    "import requests\n",
    "import json\n",
    "\n",
    "url = \"https://api.convai.com/character/get\"\n",
    "\n",
    "payload = json.dumps({\n",
    "  \"charID\": \"47403c6e-119a-11ee-ae3d-42010a400002\"\n",
    "})\n",
    "headers = {\n",
    "  'CONVAI-API-KEY': 'a4624c5bfb62a2af5b7c70b12b2ac836',\n",
    "  'Content-Type': 'application/json'\n",
    "}\n",
    "\n",
    "response = requests.request(\"POST\", url, headers=headers, data=payload)\n",
    "\n",
    "print(response.text)"
   ]
  },
  {
   "cell_type": "code",
   "execution_count": 5,
   "id": "fd41c6fd-136c-4c19-af06-ebcb693a91af",
   "metadata": {
    "tags": []
   },
   "outputs": [
    {
     "name": "stdout",
     "output_type": "stream",
     "text": [
      "{\"character_name\": \"TRUMP\", \"user_id\": \"CAIM370025263752FE3A8AR\", \"character_id\": \"47403c6e-119a-11ee-ae3d-42010a400002\", \"listing\": \"public\", \"voice_type\": \"MALE\", \"character_actions\": [], \"character_emotions\": [], \"model_details\": {\"modelType\": \"NULL\", \"modelLink\": \"NULL\", \"modelPlaceholder\": \"NULL\"}, \"language_code\": \"en-US\", \"guard_rails\": {\"type1\": \"3\"}, \"timestamp\": \"2023-06-23T07:48:01\", \"organization_id\": null, \"backstory\": \"TRUMP is a highly intelligent, highly driven individual with developed sociopathic tendencies. This appears to be the product of PTSD (post-traumatic stress disorder) as there are no signs that he was born this way. Sly, manipulative, and charming, Red is always three steps ahead of everyone else, and is determined to keep himself a mystery. As he puts it, \\u201cI\\u2019m a criminal. Criminals are notorious liars. Everything about me is a lie.\\u201d That\\u2019s probably true, actually, but who knows for sure. He dislikes rude people, which is something that Agent Ressler pointed out after Red let a notorious drug dealer get away with false identification. Ressler mentioned that Red wouldn\\u2019t let the drug dealer get away because he was rude and Red doesn\\u2019t like rude people. Red responded with, \\u201cHe is on my jet.\\u201d\"}\n"
     ]
    }
   ],
   "source": [
    "# getbyname\n",
    "import requests\n",
    "import json\n",
    "\n",
    "url = \"https://api.convai.com/character/get\"\n",
    "\n",
    "payload = json.dumps({\n",
    "  \"charName\": \"TRUMP\"\n",
    "})\n",
    "headers = {\n",
    "  'CONVAI-API-KEY': 'a4624c5bfb62a2af5b7c70b12b2ac836',\n",
    "  'Content-Type': 'application/json'\n",
    "}\n",
    "\n",
    "response = requests.request(\"POST\", url, headers=headers, data=payload)\n",
    "\n",
    "print(response.text)"
   ]
  },
  {
   "cell_type": "code",
   "execution_count": 3,
   "id": "71c19401-3630-4d1b-835c-af4c63c856f4",
   "metadata": {
    "tags": []
   },
   "outputs": [
    {
     "name": "stdout",
     "output_type": "stream",
     "text": [
      "{\"STATUS\": \"SUCCESS\"}\n"
     ]
    }
   ],
   "source": [
    "# update\n",
    "import requests\n",
    "import json\n",
    "\n",
    "url = \"https://api.convai.com/character/update\"\n",
    "\n",
    "payload = json.dumps({\n",
    "  \"charID\": \"47403c6e-119a-11ee-ae3d-42010a400002\",\n",
    "  \"backstory\": \"TRUMP is a highly intelligent, highly driven individual with developed sociopathic tendencies. This appears to be the product of PTSD (post-traumatic stress disorder) as there are no signs that he was born this way. Sly, manipulative, and charming, Red is always three steps ahead of everyone else, and is determined to keep himself a mystery. As he puts it, “I’m a criminal. Criminals are notorious liars. Everything about me is a lie.” That’s probably true, actually, but who knows for sure. He dislikes rude people, which is something that Agent Ressler pointed out after Red let a notorious drug dealer get away with false identification. Ressler mentioned that Red wouldn’t let the drug dealer get away because he was rude and Red doesn’t like rude people. Red responded with, “He is on my jet.”\",\n",
    "  \"voiceType\": \"MALE\",\n",
    "  \"charName\": \"TRUMP\"\n",
    "})\n",
    "headers = {\n",
    "  'CONVAI-API-KEY': 'a4624c5bfb62a2af5b7c70b12b2ac836',\n",
    "  'Content-Type': 'application/json'\n",
    "}\n",
    "\n",
    "response = requests.request(\"POST\", url, headers=headers, data=payload)\n",
    "\n",
    "print(response.text)"
   ]
  },
  {
   "cell_type": "code",
   "execution_count": 19,
   "id": "e0948c1a-1dc3-4bea-9108-a17e30560057",
   "metadata": {
    "tags": []
   },
   "outputs": [
    {
     "name": "stdout",
     "output_type": "stream",
     "text": [
      "{'userQuery': 'hello! who are you? can you dance?', 'charID': '47403c6e-119a-11ee-ae3d-42010a400002', 'sessionID': '3fe721b8fbf7c33cbf50417c945ab0d2', 'text': \"Hi! My name is TRUMP. I don't know how to dance, but I'm pretty good at most other things. What do you need help with?\", 'response': \"Hi! My name is TRUMP. I don't know how to dance, but I'm pretty good at most other things. What do you need help with?\"}\n"
     ]
    }
   ],
   "source": [
    "import requests\n",
    "import json\n",
    "import base64\n",
    "\n",
    "url = \"https://api.convai.com/character/getResponse\"\n",
    "\n",
    "payload={\n",
    "    'userText': 'hello! who are you? can you dance?',\n",
    "    'charID': '47403c6e-119a-11ee-ae3d-42010a400002',\n",
    "    'sessionID': '-1',\n",
    "    'voiceResponse': 'False'\n",
    "}\n",
    "\n",
    "headers = {\n",
    "  'CONVAI-API-KEY': 'a4624c5bfb62a2af5b7c70b12b2ac836'\n",
    "}\n",
    "\n",
    "response = requests.request(\"POST\", url, headers=headers, data=payload)\n",
    "\n",
    "data = response.json()\n",
    "print(data)"
   ]
  },
  {
   "cell_type": "code",
   "execution_count": 18,
   "id": "1d78fa10-d034-49f8-a056-424308e79ec7",
   "metadata": {
    "tags": []
   },
   "outputs": [
    {
     "data": {
      "text/plain": [
       "{'ERROR': 'Unable to generate response. Please try again in sometime.',\n",
       " 'Reference ID': 'c98fa5f8-3054-4c72-9926-3430e692037f'}"
      ]
     },
     "execution_count": 18,
     "metadata": {},
     "output_type": "execute_result"
    }
   ],
   "source": [
    "data"
   ]
  },
  {
   "cell_type": "code",
   "execution_count": null,
   "id": "fb38ff59-9e2d-4710-908a-fd2c8c9f0652",
   "metadata": {},
   "outputs": [],
   "source": [
    "# update\n",
    "\n",
    "\n"
   ]
  }
 ],
 "metadata": {
  "kernelspec": {
   "display_name": "Python 3 (ipykernel)",
   "language": "python",
   "name": "python3"
  },
  "language_info": {
   "codemirror_mode": {
    "name": "ipython",
    "version": 3
   },
   "file_extension": ".py",
   "mimetype": "text/x-python",
   "name": "python",
   "nbconvert_exporter": "python",
   "pygments_lexer": "ipython3",
   "version": "3.9.12"
  }
 },
 "nbformat": 4,
 "nbformat_minor": 5
}
