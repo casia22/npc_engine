{
 "cells": [
  {
   "cell_type": "code",
   "execution_count": null,
   "outputs": [],
   "source": [
    "import json\n",
    "import socket\n",
    "import time\n",
    "import uuid\n",
    "import pathlib\n",
    "import sys\n",
    "\n",
    "from npc_engine.src.config.config import PROJECT_ROOT_PATH\n",
    "import threading\n",
    "\n",
    "engine_url = \"::1\"\n",
    "engine_port = 8199\n",
    "game_url = \"::1\"\n",
    "game_port = 8084\n",
    "sock = socket.socket(socket.AF_INET6, socket.SOCK_DGRAM)\n",
    "sock.bind((\"::1\", game_port))"
   ],
   "metadata": {
    "collapsed": false,
    "pycharm": {
     "name": "#%%\n",
     "is_executing": true
    }
   }
  },
  {
   "cell_type": "code",
   "execution_count": 3,
   "outputs": [],
   "source": [
    "\n",
    "def send_data(data, max_packet_size=6000):\n",
    "        # UUID作为消息ID\n",
    "        msg_id = uuid.uuid4().hex\n",
    "        # 将json字符串转换为bytes\n",
    "        data = json.dumps(data).encode('utf-8')\n",
    "        # 计算数据包总数\n",
    "        packets = [data[i: i + max_packet_size] for i in range(0, len(data), max_packet_size)]\n",
    "        total_packets = len(packets)\n",
    "        for i, packet in enumerate(packets):\n",
    "            # 构造UDP数据包头部\n",
    "            #print(\"sending packet {} of {}, size: {} KB\".format(i + 1, total_packets, self.calculate_str_size_in_kb(packet)))\n",
    "            header = f\"{msg_id}@{i + 1}@{total_packets}\".encode('utf-8')\n",
    "            # 发送UDP数据包\n",
    "            sock.sendto(header + b\"@\" + packet, (engine_url, engine_port))\n",
    "        #sock.close()\n",
    "\n",
    "path = PROJECT_ROOT_PATH / \"src\" / \"engine.py\"\n",
    "import os\n",
    "# os popen\n",
    "#os.popen(\"python \" + str(path))"
   ],
   "metadata": {
    "collapsed": false,
    "pycharm": {
     "name": "#%%\n"
    }
   }
  },
  {
   "cell_type": "code",
   "execution_count": 4,
   "metadata": {
    "collapsed": false,
    "ExecuteTime": {
     "end_time": "2023-09-16T08:05:52.114238300Z",
     "start_time": "2023-09-16T08:05:52.095725400Z"
    },
    "pycharm": {
     "name": "#%%\n"
    }
   },
   "outputs": [
    {
     "name": "stdout",
     "output_type": "stream",
     "text": [
      "sending for init\n"
     ]
    }
   ],
   "source": [
    "import time \n",
    "\n",
    "def test_engine_init_memory():\n",
    "\n",
    "    \"\"\"\n",
    "    测试引擎初始化\n",
    "    向引擎发送初始化包，检查引擎是否正确初始化\n",
    "    初始化包例：\n",
    "         {\"func\":\"init\",\n",
    "                # 必填字段，代表在什么场景初始化\n",
    "                \"scene\":\"default_village\",\n",
    "                \"language\":\"E\" or \"C\"\n",
    "                # 下面是🉑️选\n",
    "                \"npc\":[\n",
    "                    {\"name\":\"李大爷\",\n",
    "                    \"desc\":\"是个好人\",\n",
    "                    \"mood\":\"正常\",\n",
    "                    \"position\":\"李大爷家\",\n",
    "                    \"memory\":[ ]},\n",
    "\n",
    "                    {\"name\":\"王大妈\",\n",
    "                    \"desc\":\"是个好人\",\n",
    "                    \"mood\":\"焦急\",\n",
    "                    \"position\":\"王大妈家\",\n",
    "                    \"memory\":[ ]}\n",
    "                      ], # 可以留空，默认按照game_world.json+scene初始化场景NPC。非空则在之前基础上添加。\n",
    "        }\n",
    "    :return:\n",
    "    \"\"\"\n",
    "\n",
    "    # 初始化包\n",
    "    pack1 = {\"func\":\"init\",\n",
    "                # 必填字段，代表在什么场景初始化\n",
    "                \"scene\": \"default_village\",\n",
    "                \"language\": \"C\",\n",
    "                # 下面是🉑️选\n",
    "                \"npc\": []\n",
    "                    #{\"name\":\"超级史莱姆\",\n",
    "                    #\"desc\":\"喜欢吃人\",\n",
    "                    #\"mood\":\"愤怒\",\n",
    "                    #\"location\": \"村口\",\n",
    "                    #\"memory\":[\"20年前吃了两只小狗\",\"15年前吃了三只小猫\",\"9年前吃了三个小孩\",\"6年前吃了两个老人\",\"1年前吃了一家五口人\"]}\n",
    "                    #  ]\n",
    "        }\n",
    "    # 发送初始化包到引擎\n",
    "    print(\"sending for init\")\n",
    "    send_data(pack1)\n",
    "    #time.sleep(180)\n",
    "\n",
    "test_engine_init_memory()"
   ]
  },
  {
   "cell_type": "code",
   "execution_count": 12,
   "metadata": {
    "ExecuteTime": {
     "end_time": "2023-07-29T15:58:54.994029Z",
     "start_time": "2023-07-29T15:58:54.961221Z"
    },
    "collapsed": false,
    "pycharm": {
     "name": "#%%\n"
    }
   },
   "outputs": [
    {
     "name": "stdout",
     "output_type": "stream",
     "text": [
      "sending for conversation\n"
     ]
    }
   ],
   "source": [
    "def test_conversation():\n",
    "\n",
    "    \"\"\"\n",
    "    测试引擎wake_up函数\n",
    "    向引擎发送初始化包，检查引擎是否正确初始化\n",
    "    wakeup包例：\n",
    "        {\n",
    "            \"func\":\"wake_up\",\n",
    "            \"npc_name\": \"王大妈\",\n",
    "            \"position\": \"李大爷家\",\n",
    "            \"observation\": [\"李大爷\", \"椅子#1\",\"椅子#2\",\"椅子#3[李大爷占用]\",床]\n",
    "            \"time\": \"2021-01-01 12:00:00\", # 游戏世界的时间戳\n",
    "        }\n",
    "    预期返回包:\n",
    "    {\n",
    "            \"name\":\"action\",\n",
    "            \"npc_name\":\"王大妈\",\n",
    "            \"action\":\"chat\",\n",
    "            \"object\":\"李大爷\",\n",
    "            \"parameters\":[\"你吃饭了没？\"],\n",
    "        }\n",
    "    :return:\n",
    "    \"\"\"\n",
    "\n",
    "    # 初始化包\n",
    "    pack1 = {\n",
    "            \"func\":\"create_conversation\",\n",
    "            \"npc\":[\"李大爷\",\"王大妈\",\"村长\"],   # 参与对话的NPC\n",
    "            \"location\":\"李大爷家\",                # 对话地点\n",
    "            \"topic\":\"村长在工厂的经历\",           # 对话主题,可以留空,gpt会自发选择一个主题。\n",
    "            \"npc_states\": {\n",
    "              \"李大爷\": {\n",
    "                  \"position\": \"李大爷家\",\n",
    "                  \"observation\": {\n",
    "                          \"people\": [\"王大妈\", \"村长\", \"隐形李飞飞\"],\n",
    "                          \"items\": [\"椅子#1\",\"椅子#2\",\"椅子#3[李大爷占用]\",\"床\"],\n",
    "                          \"locations\": [\"李大爷家大门\",\"李大爷家后门\",\"李大爷家院子\"]\n",
    "                                },\n",
    "                  \"backpack\":[\"黄瓜\", \"1000元\", \"老报纸\"]\n",
    "                       },\n",
    "              \"王大妈\": {\n",
    "                  \"position\": \"李大爷家\",\n",
    "                  \"observation\": {\n",
    "                          \"people\": [\"李大爷\", \"村长\", \"隐形李飞飞\"],\n",
    "                          \"items\": [\"椅子#1\",\"椅子#2\",\"椅子#3[李大爷占用]\",\"床\"],\n",
    "                          \"locations\": [\"李大爷家大门\",\"李大爷家后门\",\"李大爷家院子\"]\n",
    "                                },\n",
    "                  \"backpack\":[\"优质西瓜\", \"大砍刀\", \"黄金首饰\"]\n",
    "                       },\n",
    "              \"村长\": {\n",
    "                  \"position\": \"李大爷家\",\n",
    "                  \"observation\": {\n",
    "                          \"people\": [\"李大爷\", \"王大妈\", \"隐形李飞飞\"],\n",
    "                          \"items\": [\"椅子#1\",\"椅子#2\",\"椅子#3[李大爷占用]\",\"床\"],\n",
    "                          \"locations\": [\"李大爷家大门\",\"李大爷家后门\",\"李大爷家院子\"]\n",
    "                                },\n",
    "                  \"backpack\":[\"优质西瓜\", \"大砍刀\", \"黄金首饰\"]\n",
    "                       }},\n",
    "            # 下面是为了解决玩家/npc插入对话的问题\n",
    "            \"starting\": \"\",  # 玩家插入发言,可以留空\n",
    "            \"player_desc\": \"\",\n",
    "            \"memory_k\": 3,\n",
    "            \"length\": \"S\"\n",
    "        }\n",
    "\n",
    "    # 发送初始化包到引擎\n",
    "    print(\"sending for conversation\")\n",
    "    send_data(pack1)\n",
    "    #print(\"all done\")\n",
    "\n",
    "test_conversation()"
   ]
  },
  {
   "cell_type": "code",
   "execution_count": 5,
   "metadata": {
    "ExecuteTime": {
     "end_time": "2023-09-16T08:06:07.557424Z",
     "start_time": "2023-09-16T08:06:07.552986Z"
    },
    "pycharm": {
     "name": "#%%\n"
    }
   },
   "outputs": [
    {
     "name": "stdout",
     "output_type": "stream",
     "text": [
      "sending pack1\n"
     ]
    }
   ],
   "source": [
    "pack1 = {        \n",
    "            \"func\":\"confirm_conversation_line\",\n",
    "            \"conversation_id\":\"1234567890\",\n",
    "            \"index\":24\n",
    "        }\n",
    "#pack2 = {        \n",
    "#            \"func\":\"confirm_conversation_line\",\n",
    "#            \"conversation_id\":\"1234567890\",\n",
    "#            \"index\":4\n",
    "#        }\n",
    "#pack3 = {        \n",
    "#            \"func\":\"confirm_conversation_line\",\n",
    "#            \"conversation_id\":\"1234567890\",\n",
    "#            \"index\":12\n",
    "#        }\n",
    "#pack4 = {        \n",
    "#            \"func\":\"confirm_conversation_line\",\n",
    "#            \"conversation_id\":\"1234567890\",\n",
    "#            \"index\":21\n",
    "#        }\n",
    "\n",
    "print(\"sending pack1\")\n",
    "send_data(pack1)\n",
    "#time.sleep(1)\n",
    "#print(\"sending pack2\")\n",
    "#send_data(pack2)\n",
    "#time.sleep(1)\n",
    "#print(\"sending pack3\")\n",
    "#send_data(pack3)\n",
    "#time.sleep(1)\n",
    "#print(\"sending pack4\")\n",
    "#send_data(pack4)"
   ]
  },
  {
   "cell_type": "code",
   "execution_count": 6,
   "metadata": {
    "ExecuteTime": {
     "end_time": "2023-09-16T08:06:18.232920700Z",
     "start_time": "2023-09-16T08:06:18.223919Z"
    },
    "pycharm": {
     "name": "#%%\n"
    }
   },
   "outputs": [
    {
     "name": "stdout",
     "output_type": "stream",
     "text": [
      "sending for conversation re-creation\n"
     ]
    }
   ],
   "source": [
    "def test_conversation_re_creation():\n",
    "    pack1 = {\n",
    "        \"func\":\"re_create_conversation\",\n",
    "        \"id\":\"1234567890\",\n",
    "        \"character\":\"警长\",\n",
    "        \"interruption\": \"\", # 玩家插入发言,可以留空\n",
    "        \"player_desc\": \"\", # 玩家的个性描述\n",
    "        \"memory_k\": 3,\n",
    "        \"length\": \"M\"}\n",
    "    \n",
    "    print(\"sending for conversation re-creation\")\n",
    "    send_data(pack1)\n",
    "\n",
    "test_conversation_re_creation()"
   ]
  },
  {
   "cell_type": "code",
   "execution_count": 7,
   "metadata": {
    "ExecuteTime": {
     "end_time": "2023-09-16T08:06:25.649342800Z",
     "start_time": "2023-09-16T08:06:25.633946Z"
    },
    "pycharm": {
     "name": "#%%\n"
    }
   },
   "outputs": [
    {
     "name": "stdout",
     "output_type": "stream",
     "text": [
      "sending pack\n"
     ]
    }
   ],
   "source": [
    "pack = {        \n",
    "            \"func\":\"confirm_conversation_line\",\n",
    "            \"conversation_id\":\"1234567890\",\n",
    "            \"index\":24\n",
    "        }\n",
    "\n",
    "print(\"sending pack\")\n",
    "send_data(pack)"
   ]
  }
 ],
 "metadata": {
  "kernelspec": {
   "display_name": "Python 3",
   "language": "python",
   "name": "python3"
  },
  "language_info": {
   "codemirror_mode": {
    "name": "ipython",
    "version": 3
   },
   "file_extension": ".py",
   "mimetype": "text/x-python",
   "name": "python",
   "nbconvert_exporter": "python",
   "pygments_lexer": "ipython3",
   "version": "3.9.0"
  }
 },
 "nbformat": 4,
 "nbformat_minor": 0
}