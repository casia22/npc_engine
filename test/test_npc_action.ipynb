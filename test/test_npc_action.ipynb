{
 "cells": [
  {
   "cell_type": "code",
   "execution_count": 5,
   "metadata": {
    "ExecuteTime": {
     "end_time": "2023-07-29T15:58:49.513725Z",
     "start_time": "2023-07-29T15:58:49.499947Z"
    },
    "collapsed": true
   },
   "outputs": [
    {
     "ename": "ModuleNotFoundError",
     "evalue": "No module named 'src'",
     "output_type": "error",
     "traceback": [
      "\u001b[1;31m---------------------------------------------------------------------------\u001b[0m",
      "\u001b[1;31mModuleNotFoundError\u001b[0m                       Traceback (most recent call last)",
      "Cell \u001b[1;32mIn[5], line 5\u001b[0m\n\u001b[0;32m      3\u001b[0m \u001b[39mimport\u001b[39;00m \u001b[39mtime\u001b[39;00m\n\u001b[0;32m      4\u001b[0m \u001b[39mimport\u001b[39;00m \u001b[39muuid\u001b[39;00m\n\u001b[1;32m----> 5\u001b[0m \u001b[39mfrom\u001b[39;00m \u001b[39msrc\u001b[39;00m\u001b[39m.\u001b[39;00m\u001b[39mconfig\u001b[39;00m\u001b[39m.\u001b[39;00m\u001b[39mconfig\u001b[39;00m \u001b[39mimport\u001b[39;00m PROJECT_ROOT_PATH\n",
      "\u001b[1;31mModuleNotFoundError\u001b[0m: No module named 'src'"
     ]
    }
   ],
   "source": [
    "import json\n",
    "import socket\n",
    "import time\n",
    "import uuid\n",
    "from src.config.config import PROJECT_ROOT_PATH"
   ]
  },
  {
   "cell_type": "code",
   "execution_count": null,
   "metadata": {
    "ExecuteTime": {
     "end_time": "2023-07-29T15:58:49.812571Z",
     "start_time": "2023-07-29T15:58:49.771709Z"
    },
    "collapsed": false
   },
   "outputs": [
    {
     "data": {
      "text/plain": [
       "<os._wrap_close at 0x107c17a00>"
      ]
     },
     "execution_count": 8,
     "metadata": {},
     "output_type": "execute_result"
    }
   ],
   "source": [
    "import threading\n",
    "from src.engine import NPCEngine\n",
    "def send_data(data, max_packet_size=6000):\n",
    "\n",
    "        engine_url = \"::1\"\n",
    "        engine_port = 8199\n",
    "        game_url = \"::1\"\n",
    "        game_port = 8084\n",
    "\n",
    "        sock = socket.socket(socket.AF_INET6, socket.SOCK_DGRAM)\n",
    "        # sock.bind((\"::1\", game_port))\n",
    "\n",
    "        # UUID作为消息ID\n",
    "        msg_id = uuid.uuid4().hex\n",
    "        # 将json字符串转换为bytes\n",
    "        data = json.dumps(data).encode('utf-8')\n",
    "        # 计算数据包总数\n",
    "        packets = [data[i: i + max_packet_size] for i in range(0, len(data), max_packet_size)]\n",
    "        total_packets = len(packets)\n",
    "        for i, packet in enumerate(packets):\n",
    "            # 构造UDP数据包头部\n",
    "            #print(\"sending packet {} of {}, size: {} KB\".format(i + 1, total_packets, self.calculate_str_size_in_kb(packet)))\n",
    "            header = f\"{msg_id}@{i + 1}@{total_packets}\".encode('utf-8')\n",
    "            # 发送UDP数据包\n",
    "            sock.sendto(header + b\"@\" + packet, (engine_url, engine_port))\n",
    "        sock.close()\n",
    "\n",
    "path = PROJECT_ROOT_PATH / \"src\" / \"engine.py\"\n",
    "import os\n",
    "# os popen\n",
    "#os.popen(\"python \" + str(path))"
   ]
  },
  {
   "cell_type": "code",
   "execution_count": 9,
   "metadata": {
    "ExecuteTime": {
     "end_time": "2023-07-29T15:58:54.959256Z",
     "start_time": "2023-07-29T15:58:49.934819Z"
    },
    "collapsed": false
   },
   "outputs": [
    {
     "name": "stdout",
     "output_type": "stream",
     "text": [
      "sending first\n",
      "sending second\n",
      "all done\n"
     ]
    }
   ],
   "source": [
    "def test_engine_init():\n",
    "\n",
    "    \"\"\"\n",
    "    测试引擎初始化\n",
    "    向引擎发送初始化包，检查引擎是否正确初始化\n",
    "    初始化包例：\n",
    "         {\"func\":\"init\",\n",
    "                # 必填字段，代表在什么场景初始化\n",
    "                \"scene\":\"default_village\",\n",
    "                \"language\":\"E\" or \"C\"\n",
    "                # 下面是🉑️选\n",
    "                \"npc\":[\n",
    "                    {\"name\":\"李大爷\",\n",
    "                    \"desc\":\"是个好人\",\n",
    "                    \"mood\":\"正常\",\n",
    "                    \"location\":\"李大爷家\",\n",
    "                    \"memory\":[ ]},\n",
    "\n",
    "                    {\"name\":\"王大妈\",\n",
    "                    \"desc\":\"是个好人\",\n",
    "                    \"mood\":\"焦急\",\n",
    "                    \"location\":\"王大妈家\",\n",
    "                    \"memory\":[ ]}\n",
    "                      ], # 可以留空，默认按照game_world.json+scene初始化场景NPC。非空则在之前基础上添加。\n",
    "\n",
    "        }\n",
    "    :return:\n",
    "    \"\"\"\n",
    "\n",
    "    # 初始化包\n",
    "    pack1 = {\"func\":\"init\",\n",
    "                # 必填字段，代表在什么场景初始化\n",
    "                \"scene\": \"default_village\",\n",
    "                \"language\": \"C\",\n",
    "                # 下面是🉑️选\n",
    "                \"npc\": [\n",
    "                    {\"name\":\"超级史莱姆\",\n",
    "                    \"desc\":\"喜欢吃人\",\n",
    "                    \"mood\":\"愤怒\",\n",
    "                    \"location\": \"村口\",\n",
    "                    \"memory\":[]},\n",
    "\n",
    "                    {\"name\":\"警长\",\n",
    "                    \"desc\":\"是个好人,但是不喜欢超级史莱姆，非常会使用武器，很勇敢\",\n",
    "                    \"mood\":\"焦急\",\n",
    "                    \"location\":\"村口\",\n",
    "                    \"memory\":[]}\n",
    "                      ]\n",
    "        }\n",
    "    pack2 = {\"func\": \"init\",\n",
    "             # 必填字段，代表在什么场景初始化\n",
    "             \"scene\": \"default_village\",\n",
    "             \"language\": \"C\",\n",
    "             # 下面是🉑️选\n",
    "             \"npc\": []\n",
    "             }\n",
    "    # 发送初始化包到引擎\n",
    "    print(\"sending first\")\n",
    "    send_data(pack1)\n",
    "    time.sleep(5)\n",
    "    print(\"sending second\")\n",
    "    send_data(pack2)\n",
    "    print(\"all done\")\n",
    "\n",
    "test_engine_init()"
   ]
  },
  {
   "cell_type": "code",
   "execution_count": 10,
   "metadata": {
    "ExecuteTime": {
     "end_time": "2023-07-29T15:58:54.994029Z",
     "start_time": "2023-07-29T15:58:54.961221Z"
    },
    "collapsed": false
   },
   "outputs": [
    {
     "name": "stdout",
     "output_type": "stream",
     "text": [
      "sending first\n",
      "all done\n"
     ]
    }
   ],
   "source": [
    "def test_wake_up():\n",
    "\n",
    "    \"\"\"\n",
    "    测试引擎wake_up函数\n",
    "    向引擎发送初始化包，检查引擎是否正确初始化\n",
    "    wakeup包例：\n",
    "        {\n",
    "            \"func\":\"wake_up\",\n",
    "            \"npc_name\": \"王大妈\",\n",
    "            \"position\": \"李大爷家\",\n",
    "            \"observation\": [\"李大爷\", \"椅子#1\",\"椅子#2\",\"椅子#3[李大爷占用]\",床]\n",
    "            \"time\": \"2021-01-01 12:00:00\", # 游戏世界的时间戳\n",
    "        }\n",
    "    预期返回包:\n",
    "    {\n",
    "            \"name\":\"action\",\n",
    "            \"npc_name\":\"王大妈\",\n",
    "            \"action\":\"chat\",\n",
    "            \"object\":\"李大爷\",\n",
    "            \"parameters\":[\"你吃饭了没？\"],\n",
    "        }\n",
    "    :return:\n",
    "    \"\"\"\n",
    "\n",
    "    # 初始化包\n",
    "    pack1 = {\n",
    "            \"func\":\"wake_up\",\n",
    "            \"npc_name\": \"王大妈\",\n",
    "            \"position\": \"李大爷家\",\n",
    "            \"observation\": [\"李大爷\", \"椅子#1\",\"椅子#2\",\"椅子#3[李大爷占用]\",\"床\"],\n",
    "            \"time\": \"2021-01-01 12:00:00\", # 游戏世界的时间戳\n",
    "        }\n",
    "    # 发送初始化包到引擎\n",
    "    print(\"sending first\")\n",
    "    send_data(pack1)\n",
    "    print(\"all done\")\n",
    "\n",
    "test_wake_up()"
   ]
  },
  {
   "cell_type": "code",
   "execution_count": 11,
   "metadata": {
    "ExecuteTime": {
     "end_time": "2023-07-29T15:58:55.059274Z",
     "start_time": "2023-07-29T15:58:54.998098Z"
    },
    "collapsed": false
   },
   "outputs": [
    {
     "name": "stdout",
     "output_type": "stream",
     "text": [
      "all done\n"
     ]
    }
   ],
   "source": [
    "def test_action_done():\n",
    "    \"\"\"\n",
    "    发送动作完成包到引擎\n",
    "    GAME发送\n",
    "    的包：\n",
    "\n",
    "    {\n",
    "        \"func\":\"action_done\",\n",
    "        \"npc_name\":\"王大妈\",\n",
    "        \"status\": \"success\",\n",
    "        \"time\": \"2021-01-01 12:00:00\", # 游戏世界的时间戳\n",
    "\n",
    "        \"observation\": [\"李大爷\", \"村长\", \"椅子#1\",\"椅子#2\",\"椅子#3[李大爷占用]\",床], # 本次动作的观察结果\n",
    "        \"position\": \"李大爷家\", # NPC的位置\n",
    "        \"action\":\"mov\",\n",
    "        \"object\":\"李大爷家\",\n",
    "        \"parameters\":[],\n",
    "        \"reason\": \"\", # \"王大妈在去往‘警察局’的路上被李大爷打断\"\n",
    "    }\n",
    "\n",
    "    引擎返回的包：\n",
    "    {\n",
    "        \"func\":\"action_done\",\n",
    "        \"npc_name\":\"王大妈\",\n",
    "        \"action\":\"chat\",\n",
    "        \"object\":\"李大爷\",\n",
    "        \"parameters\":[\"你吃饭了没？\"],\n",
    "    }\n",
    "\n",
    "    :return:\n",
    "    \"\"\"\n",
    "\n",
    "    action_done_pack =  {\n",
    "        \"func\":\"action_done\",\n",
    "        \"npc_name\":\"王大妈\",\n",
    "        \"status\": \"success\",\n",
    "        \"time\": \"2021-01-01 13:00:00\", # 游戏世界的时间戳\n",
    "\n",
    "        \"observation\": [\"李大爷\", \"村长\", \"椅子#1\",\"椅子#2\",\"椅子#3[李大爷占用]\",\"床\"], # 本次动作的观察结果\n",
    "        \"position\": \"李大爷家\", # NPC的位置\n",
    "\n",
    "        \"action\":\"chat\",\n",
    "        \"object\":\"李大爷\",\n",
    "        \"parameters\":['李大爷', '你吃了吗？'],\n",
    "        \"reason\": \"\", # \"王大妈在去往‘警察局’的路上被李大爷打断\"\n",
    "    }\n",
    "    send_data(action_done_pack)\n",
    "    print(\"all done\")\n",
    "test_action_done()"
   ]
  },
  {
   "cell_type": "code",
   "execution_count": 73,
   "metadata": {
    "ExecuteTime": {
     "end_time": "2023-07-29T14:58:52.884640Z",
     "start_time": "2023-07-29T14:58:52.724139Z"
    },
    "collapsed": false
   },
   "outputs": [],
   "source": []
  },
  {
   "cell_type": "code",
   "execution_count": 68,
   "metadata": {
    "ExecuteTime": {
     "end_time": "2023-07-29T14:56:50.032501Z",
     "start_time": "2023-07-29T14:56:50.024782Z"
    },
    "collapsed": false
   },
   "outputs": [],
   "source": []
  },
  {
   "cell_type": "code",
   "execution_count": null,
   "metadata": {
    "collapsed": false
   },
   "outputs": [],
   "source": []
  }
 ],
 "metadata": {
  "kernelspec": {
   "display_name": "Python 3",
   "language": "python",
   "name": "python3"
  },
  "language_info": {
   "codemirror_mode": {
    "name": "ipython",
    "version": 3
   },
   "file_extension": ".py",
   "mimetype": "text/x-python",
   "name": "python",
   "nbconvert_exporter": "python",
   "pygments_lexer": "ipython3",
   "version": "3.9.0"
  }
 },
 "nbformat": 4,
 "nbformat_minor": 0
}
