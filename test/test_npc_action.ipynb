{
 "cells": [
  {
   "cell_type": "code",
   "execution_count": 1,
   "metadata": {
    "collapsed": true,
    "ExecuteTime": {
     "end_time": "2023-11-19T13:14:11.029713Z",
     "start_time": "2023-11-19T13:14:04.947084Z"
    }
   },
   "outputs": [],
   "source": [
    "import json\n",
    "import socket\n",
    "import time\n",
    "import uuid\n",
    "from npc_engine.src.config.config import PROJECT_ROOT_PATH"
   ]
  },
  {
   "cell_type": "code",
   "execution_count": 2,
   "metadata": {
    "collapsed": false,
    "ExecuteTime": {
     "end_time": "2023-11-19T13:17:53.770896Z",
     "start_time": "2023-11-19T13:17:53.762355Z"
    }
   },
   "outputs": [],
   "source": [
    "import threading\n",
    "from npc_engine.src.engine import NPCEngine\n",
    "def send_data(data, max_packet_size=6000):\n",
    "\n",
    "        engine_url = \"::1\"\n",
    "        engine_port = 8199\n",
    "        game_url = \"::1\"\n",
    "        game_port = 8084\n",
    "\n",
    "        sock = socket.socket(socket.AF_INET6, socket.SOCK_DGRAM)\n",
    "        # sock.bind((\"::1\", game_port))\n",
    "\n",
    "        # UUID作为消息ID\n",
    "        msg_id = uuid.uuid4().hex\n",
    "        # 将json字符串转换为bytes\n",
    "        data = json.dumps(data).encode('utf-8')\n",
    "        # 计算数据包总数\n",
    "        packets = [data[i: i + max_packet_size] for i in range(0, len(data), max_packet_size)]\n",
    "        total_packets = len(packets)\n",
    "        for i, packet in enumerate(packets):\n",
    "            # 构造UDP数据包头部\n",
    "            #print(\"sending packet {} of {}, size: {} KB\".format(i + 1, total_packets, self.calculate_str_size_in_kb(packet)))\n",
    "            header = f\"{msg_id}@{i + 1}@{total_packets}\".encode('utf-8')\n",
    "            # 发送UDP数据包\n",
    "            sock.sendto(header + b\"@\" + packet, (engine_url, engine_port))\n",
    "        sock.close()\n",
    "\n",
    "path = PROJECT_ROOT_PATH / \"src\" / \"engine.py\"\n",
    "import os\n",
    "# os popen\n",
    "#os.popen(\"python \" + str(path))"
   ]
  },
  {
   "cell_type": "code",
   "execution_count": 7,
   "metadata": {
    "collapsed": false,
    "ExecuteTime": {
     "end_time": "2023-11-19T13:28:51.932302Z",
     "start_time": "2023-11-19T13:28:51.919831Z"
    }
   },
   "outputs": [
    {
     "name": "stdout",
     "output_type": "stream",
     "text": [
      "{'func': 'init', 'scene_name': '雁栖村', 'language': 'C', 'npc': [{'name': '渔夫阿强', 'desc': '渔夫阿强是一个老练的渔民，擅长捕鱼和航海。他有一头浓密的白发和一双狡猾的眼睛。阿强经验丰富，对海洋和天气变化有着敏锐的观察力。', 'mood': '满足', 'npc_state': {'position': '河边钓鱼点', 'observation': {'people': [], 'items': ['船舱', '渔网', '渔具', '航海地图', '渔获'], 'locations': ['船舱内部', '甲板']}, 'backpack': ['鱼饵', '渔具维修工具']}, 'action_space': ['move', 'talk'], 'memory': ['从小就跟随父亲学习捕鱼技巧。', '曾多次出海捕鱼，积累丰富的经验。', '对海洋生态保护有着浓厚的兴趣。', '帮助其他渔民修理损坏的渔具。', '梦想拥有一艘自己的渔船，开展独立的渔业。']}, {'name': '猎人阿明', 'desc': '猎人阿明是一位勇敢而机敏的猎人。他身材魁梧，肌肉发达，眼神犀利。阿明擅长追踪和狩猎各种野生动物，具有过人的耐力和狙击技巧。', 'mood': '专注', 'npc_state': {'position': '猎人小屋', 'observation': {'people': [], 'items': ['猎枪', '弓箭', '追踪装备', '野外求生工具'], 'locations': ['猎人小屋内部', '周围的森林']}, 'backpack': ['干粮', '水壶', '急救包']}, 'action_space': ['move', 'talk'], 'memory': ['从小生活在山区，接受父亲的猎人训练。', '熟悉各种野生动物的习性和行踪。', '常常在附近的森林中追踪并捕获猎物。', '有着长时间在野外生存的经验。', '一日作息：清晨起床后进行锻炼和瞄准训练，白天进行狩猎和追踪，傍晚返回小屋整理装备并准备晚餐，晚上休息并回顾一天的狩猎经历。']}]}\n",
      "sending first\n",
      "sent first\n"
     ]
    }
   ],
   "source": [
    "from test_config.test_packets import init_packet\n",
    "def test_engine_init():\n",
    "    \"\"\"\n",
    "    测试引擎初始化\n",
    "    向引擎发送初始化包，检查引擎是否正确初始化\n",
    "    初始化包例：\n",
    "         请参考test_config.test_packets\n",
    "    :return:\n",
    "    \"\"\"\n",
    "    print(init_packet)\n",
    "    # 发送初始化包到引擎\n",
    "    print(\"sending first\")\n",
    "    send_data(init_packet)\n",
    "    print(\"sent first\")\n",
    "\n",
    "test_engine_init()"
   ]
  },
  {
   "cell_type": "code",
   "execution_count": 8,
   "outputs": [
    {
     "name": "stdout",
     "output_type": "stream",
     "text": [
      "sending first\n",
      "sent first\n"
     ]
    }
   ],
   "source": [
    "from test_config.test_packets import wakeup_packet_test_repeat_move\n",
    "def test_repeat_move():\n",
    "    \"\"\"\n",
    "    测试引擎初始化\n",
    "    向引擎发送初始化包，检查引擎是否正确初始化\n",
    "    初始化包例：\n",
    "         请参考test_config.test_packets\n",
    "    :return:\n",
    "    \"\"\"\n",
    "    # 发送初始化包到引擎\n",
    "    print(\"sending first\")\n",
    "    send_data(wakeup_packet_test_repeat_move)\n",
    "    print(\"sent first\")\n",
    "test_repeat_move()"
   ],
   "metadata": {
    "collapsed": false,
    "ExecuteTime": {
     "end_time": "2023-11-19T13:28:53.273580Z",
     "start_time": "2023-11-19T13:28:53.262064Z"
    }
   }
  },
  {
   "cell_type": "code",
   "execution_count": 8,
   "metadata": {
    "collapsed": false,
    "ExecuteTime": {
     "end_time": "2023-11-19T13:05:06.665459Z",
     "start_time": "2023-11-19T13:05:06.639850Z"
    }
   },
   "outputs": [
    {
     "name": "stdout",
     "output_type": "stream",
     "text": [
      "sending first\n",
      "{'func': 'wake_up', 'npc_name': '王大妈', 'scenario_name': '李大爷家', 'npc_state': {'position': '李大爷家卧室', 'observation': {'people': ['李大爷', '村长', '隐形李飞飞'], 'items': ['椅子#1', '椅子#2', '椅子#3[李大爷占用]', '床[包括:被子、枕头、床单、床垫、私房钱]'], 'locations': ['李大爷家大门', '李大爷家后门', '李大爷家院子']}, 'backpack': ['优质西瓜', '大砍刀', '黄金首饰']}, 'time': '2021-01-01 12:00:00'}\n",
      "{'func': 'wake_up', 'npc_name': '李大爷', 'scenario_name': '李大爷家', 'npc_state': {'position': '李大爷家卧室', 'observation': {'people': ['王大妈', '村长', '隐形李飞飞'], 'items': ['椅子#1', '椅子#2', '椅子#3[李大爷占用]', '床[包括:被子、枕头、床单、床垫、私房钱]'], 'locations': ['李大爷家大门', '李大爷家后门', '李大爷家院子']}, 'backpack': ['黄瓜', '1000元', '老报纸']}, 'time': '2021-01-01 12:00:00'}\n",
      "all done\n"
     ]
    }
   ],
   "source": [
    "from test_config.test_packets import wakeup_packet_1, wakeup_packet_2, wakeup_packet_3\n",
    "def test_wake_up():\n",
    "\n",
    "    \"\"\"\n",
    "    测试引擎wake_up函数\n",
    "    向引擎发送初始化包，检查引擎是否正确初始化\n",
    "    wakeup包例：\n",
    "        请参考test_config.test_packets\n",
    "    预期返回包:\n",
    "    {\n",
    "            \"name\":\"action\",\n",
    "            \"npc_name\":\"王大妈\",\n",
    "            \"action\":\"chat\",\n",
    "            \"object\":\"李大爷\",\n",
    "            \"parameters\":[\"你吃饭了没？\"],\n",
    "        }\n",
    "    :return:\n",
    "    \"\"\"\n",
    "    # 发送初始化包到引擎\n",
    "    print(\"sending first\")\n",
    "    send_data(wakeup_packet_1)\n",
    "    print(wakeup_packet_1)\n",
    "    send_data(wakeup_packet_2)\n",
    "    print(wakeup_packet_2)\n",
    "    print(\"all done\")\n",
    "\n",
    "test_wake_up()"
   ]
  },
  {
   "cell_type": "code",
   "execution_count": 5,
   "metadata": {
    "collapsed": false,
    "ExecuteTime": {
     "end_time": "2023-11-11T13:03:02.070158Z",
     "start_time": "2023-11-11T13:03:01.860030Z"
    }
   },
   "outputs": [
    {
     "name": "stdout",
     "output_type": "stream",
     "text": [
      "sending\n",
      "{'func': 'action_done', 'npc_name': '王大妈', 'status': 'success', 'time': '2021-01-01 12:00:00', 'scenario_name': '李大爷家', 'npc_state': {'position': '李大爷家卧室', 'observation': {'people': ['李大爷', '村长', '李飞飞'], 'items': ['椅子#1', '椅子#2', '椅子#3[李大爷占用]', '床'], 'locations': ['李大爷家大门', '李大爷家后门', '李大爷家院子']}, 'backpack': ['优质西瓜', '大砍刀', '黄金首饰']}, 'action': 'mov', 'object': '李大爷家', 'parameters': [], 'reason': ''}\n",
      "{'func': 'action_done', 'npc_name': '李大爷', 'status': 'fail', 'time': '2021-01-01 12:00:00', 'scenario_name': '李大爷家', 'npc_state': {'position': '李大爷家卧室', 'observation': {'people': ['王大妈', '村长', '李飞飞'], 'items': ['椅子#1', '椅子#2', '椅子#3[李大爷占用]', '床'], 'locations': ['李大爷家大门', '李大爷家后门', '李大爷家院子']}, 'backpack': ['优质西瓜', '大砍刀', '黄金首饰']}, 'action': 'mov', 'object': '警察局', 'parameters': [], 'reason': '李大爷在去往‘警察局’的路上被王大妈打断'}\n",
      "all done\n"
     ]
    }
   ],
   "source": [
    "from test_config.test_packets import action_done_packet_1,action_done_packet_2\n",
    "def test_action_done():\n",
    "    \"\"\"\n",
    "    发送动作完成包到引擎\n",
    "    GAME发送的包：\n",
    "    参考test_config.test_packets\n",
    "    引擎返回的包：\n",
    "    {\n",
    "        \"func\":\"action_done\",\n",
    "        \"npc_name\":\"王大妈\",\n",
    "        \"action\":\"chat\",\n",
    "        \"object\":\"李大爷\",\n",
    "        \"parameters\":[\"你吃饭了没？\"],\n",
    "    }\n",
    "    :return:\n",
    "    \"\"\"\n",
    "\n",
    "    print(\"sending\")\n",
    "    send_data(action_done_packet_1)\n",
    "    print(action_done_packet_1)\n",
    "    send_data(action_done_packet_2)\n",
    "    print(action_done_packet_2)\n",
    "    print(\"all done\")\n",
    "\n",
    "test_action_done()"
   ]
  },
  {
   "cell_type": "code",
   "execution_count": 26,
   "metadata": {
    "collapsed": false,
    "ExecuteTime": {
     "end_time": "2023-10-29T07:13:14.488954Z",
     "start_time": "2023-10-29T07:13:14.459795Z"
    }
   },
   "outputs": [
    {
     "name": "stdout",
     "output_type": "stream",
     "text": [
      "sending\n",
      "{'func': 'action_done', 'npc_name': '王大妈', 'status': 'success', 'time': '2021-01-01 12:00:00', 'scenario_name': '李大爷家', 'npc_state': {'position': '李大爷家卧室', 'observation': {'people': ['李大爷', '村长', '李飞飞'], 'items': ['椅子#1', '椅子#2', '椅子#3[李大爷占用]', '床'], 'locations': ['李大爷家大门', '李大爷家后门', '李大爷家院子']}, 'backpack': ['优质西瓜', '大砍刀', '黄金首饰']}, 'action': 'mov', 'object': '李大爷家', 'parameters': [], 'reason': ''}\n",
      "{'func': 'action_done', 'npc_name': '李大爷', 'status': 'fail', 'time': '2021-01-01 12:00:00', 'scenario_name': '李大爷家', 'npc_state': {'position': '李大爷家卧室', 'observation': {'people': ['王大妈', '村长', '李飞飞'], 'items': ['椅子#1', '椅子#2', '椅子#3[李大爷占用]', '床'], 'locations': ['李大爷家大门', '李大爷家后门', '李大爷家院子']}, 'backpack': ['优质西瓜', '大砍刀', '黄金首饰']}, 'action': 'mov', 'object': '警察局', 'parameters': [], 'reason': '李大爷在去往‘警察局’的路上被王大妈打断'}\n",
      "all done\n"
     ]
    }
   ],
   "source": [
    "from test_config.test_packets import action_done_packet_1,action_done_packet_2\n",
    "def test_action_done():\n",
    "    \"\"\"\n",
    "    发送动作完成包到引擎\n",
    "    GAME发送的包：\n",
    "    参考test_config.test_packets\n",
    "    引擎返回的包：\n",
    "    {\n",
    "        \"func\":\"action_done\",\n",
    "        \"npc_name\":\"王大妈\",\n",
    "        \"action\":\"chat\",\n",
    "        \"object\":\"李大爷\",\n",
    "        \"parameters\":[\"你吃饭了没？\"],\n",
    "    }\n",
    "    :return:\n",
    "    \"\"\"\n",
    "\n",
    "    print(\"sending\")\n",
    "    send_data(action_done_packet_1)\n",
    "    print(action_done_packet_1)\n",
    "    send_data(action_done_packet_2)\n",
    "    print(action_done_packet_2)\n",
    "    print(\"all done\")\n",
    "\n",
    "test_action_done()"
   ]
  },
  {
   "cell_type": "code",
   "execution_count": 16,
   "outputs": [
    {
     "name": "stdout",
     "output_type": "stream",
     "text": [
      "sending\n",
      "all done\n"
     ]
    }
   ],
   "source": [
    "from test_config.test_packets import player2npc_packet\n",
    "from test_config.test_packets import init_packet_police\n",
    "def test_talk_npc():\n",
    "    \"\"\"\n",
    "    发送player2npc_talk包到引擎\n",
    "    GAME发送的包：\n",
    "    参考test_config.test_packets\n",
    "    引擎返回的包：\n",
    "    {\n",
    "        \"func\":\"action_done\",\n",
    "        \"npc_name\":\"王大妈\",\n",
    "        \"action\":\"chat\",\n",
    "        \"object\":\"李大爷\",\n",
    "        \"parameters\":[\"你吃饭了没？\"],\n",
    "    }\n",
    "    :return:\n",
    "    \"\"\"\n",
    "\n",
    "    print(\"sending\")\n",
    "    send_data(init_packet_police)\n",
    "    send_data(player2npc_packet)\n",
    "    print(\"all done\")\n",
    "\n",
    "\n",
    "test_talk_npc()"
   ],
   "metadata": {
    "collapsed": false,
    "ExecuteTime": {
     "end_time": "2023-10-09T11:51:53.811181Z",
     "start_time": "2023-10-09T11:51:53.800362Z"
    }
   }
  },
  {
   "cell_type": "code",
   "execution_count": 1,
   "outputs": [],
   "source": [],
   "metadata": {
    "collapsed": false,
    "ExecuteTime": {
     "end_time": "2023-10-09T10:10:51.258128Z",
     "start_time": "2023-10-09T10:10:51.249890Z"
    }
   }
  },
  {
   "cell_type": "code",
   "execution_count": 11,
   "metadata": {
    "collapsed": false,
    "ExecuteTime": {
     "end_time": "2023-09-23T11:42:50.118611Z",
     "start_time": "2023-09-23T11:42:49.993147Z"
    }
   },
   "outputs": [
    {
     "name": "stdout",
     "output_type": "stream",
     "text": [
      "sending\n",
      "{'func': 'close'}\n",
      "all done\n"
     ]
    }
   ],
   "source": [
    "from test_config.test_packets import close_packet\n",
    "def test_close():\n",
    "    \"\"\"\n",
    "    发送关闭包到引擎\n",
    "    GAME发送的包：\n",
    "    参考test_config.test_packets\n",
    "    引擎返回的包：\n",
    "    {\n",
    "        \"func\":\"close\"\n",
    "    }\n",
    "    :return:\n",
    "    \"\"\"\n",
    "\n",
    "    print(\"sending\")\n",
    "    send_data(close_packet)\n",
    "    print(close_packet)\n",
    "    print(\"all done\")\n",
    "\n",
    "test_close()"
   ]
  },
  {
   "cell_type": "code",
   "execution_count": null,
   "metadata": {
    "collapsed": false
   },
   "outputs": [],
   "source": []
  }
 ],
 "metadata": {
  "kernelspec": {
   "display_name": "Python 3",
   "language": "python",
   "name": "python3"
  },
  "language_info": {
   "codemirror_mode": {
    "name": "ipython",
    "version": 3
   },
   "file_extension": ".py",
   "mimetype": "text/x-python",
   "name": "python",
   "nbconvert_exporter": "python",
   "pygments_lexer": "ipython3",
   "version": "3.9.0"
  }
 },
 "nbformat": 4,
 "nbformat_minor": 0
}
